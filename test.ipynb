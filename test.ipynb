{
 "cells": [
  {
   "cell_type": "code",
   "execution_count": 7,
   "id": "348a25b4",
   "metadata": {},
   "outputs": [],
   "source": [
    "import mlflow"
   ]
  },
  {
   "cell_type": "code",
   "execution_count": 8,
   "id": "c6ff8c41",
   "metadata": {},
   "outputs": [],
   "source": [
    "import mlflow.sklearn"
   ]
  },
  {
   "cell_type": "code",
   "execution_count": 15,
   "id": "bd16dac3",
   "metadata": {},
   "outputs": [
    {
     "name": "stdout",
     "output_type": "stream",
     "text": [
      "Collecting optuna\n",
      "  Using cached optuna-4.4.0-py3-none-any.whl.metadata (17 kB)\n",
      "Requirement already satisfied: alembic>=1.5.0 in c:\\users\\lenovo\\desktop\\mlopspractice\\mlflow\\venv\\lib\\site-packages (from optuna) (1.16.2)\n",
      "Collecting colorlog (from optuna)\n",
      "  Using cached colorlog-6.9.0-py3-none-any.whl.metadata (10 kB)\n",
      "Requirement already satisfied: numpy in c:\\users\\lenovo\\desktop\\mlopspractice\\mlflow\\venv\\lib\\site-packages (from optuna) (2.2.6)\n",
      "Requirement already satisfied: packaging>=20.0 in c:\\users\\lenovo\\desktop\\mlopspractice\\mlflow\\venv\\lib\\site-packages (from optuna) (25.0)\n",
      "Requirement already satisfied: sqlalchemy>=1.4.2 in c:\\users\\lenovo\\desktop\\mlopspractice\\mlflow\\venv\\lib\\site-packages (from optuna) (2.0.41)\n",
      "Collecting tqdm (from optuna)\n",
      "  Using cached tqdm-4.67.1-py3-none-any.whl.metadata (57 kB)\n",
      "Requirement already satisfied: PyYAML in c:\\users\\lenovo\\desktop\\mlopspractice\\mlflow\\venv\\lib\\site-packages (from optuna) (6.0.2)\n",
      "Requirement already satisfied: Mako in c:\\users\\lenovo\\desktop\\mlopspractice\\mlflow\\venv\\lib\\site-packages (from alembic>=1.5.0->optuna) (1.3.10)\n",
      "Requirement already satisfied: typing-extensions>=4.12 in c:\\users\\lenovo\\desktop\\mlopspractice\\mlflow\\venv\\lib\\site-packages (from alembic>=1.5.0->optuna) (4.14.0)\n",
      "Requirement already satisfied: tomli in c:\\users\\lenovo\\desktop\\mlopspractice\\mlflow\\venv\\lib\\site-packages (from alembic>=1.5.0->optuna) (2.2.1)\n",
      "Requirement already satisfied: greenlet>=1 in c:\\users\\lenovo\\desktop\\mlopspractice\\mlflow\\venv\\lib\\site-packages (from sqlalchemy>=1.4.2->optuna) (3.2.3)\n",
      "Requirement already satisfied: colorama in c:\\users\\lenovo\\desktop\\mlopspractice\\mlflow\\venv\\lib\\site-packages (from colorlog->optuna) (0.4.6)\n",
      "Requirement already satisfied: MarkupSafe>=0.9.2 in c:\\users\\lenovo\\desktop\\mlopspractice\\mlflow\\venv\\lib\\site-packages (from Mako->alembic>=1.5.0->optuna) (3.0.2)\n",
      "Using cached optuna-4.4.0-py3-none-any.whl (395 kB)\n",
      "Using cached colorlog-6.9.0-py3-none-any.whl (11 kB)\n",
      "Using cached tqdm-4.67.1-py3-none-any.whl (78 kB)\n",
      "Installing collected packages: tqdm, colorlog, optuna\n",
      "\n",
      "   ---------------------------------------- 0/3 [tqdm]\n",
      "   ---------------------------------------- 0/3 [tqdm]\n",
      "   ---------------------------------------- 0/3 [tqdm]\n",
      "   ---------------------------------------- 0/3 [tqdm]\n",
      "   ---------------------------------------- 0/3 [tqdm]\n",
      "   ---------------------------------------- 0/3 [tqdm]\n",
      "   ---------------------------------------- 0/3 [tqdm]\n",
      "   ---------------------------------------- 0/3 [tqdm]\n",
      "   ---------------------------------------- 0/3 [tqdm]\n",
      "   ---------------------------------------- 0/3 [tqdm]\n",
      "   ---------------------------------------- 0/3 [tqdm]\n",
      "   ------------- -------------------------- 1/3 [colorlog]\n",
      "   -------------------------- ------------- 2/3 [optuna]\n",
      "   -------------------------- ------------- 2/3 [optuna]\n",
      "   -------------------------- ------------- 2/3 [optuna]\n",
      "   -------------------------- ------------- 2/3 [optuna]\n",
      "   -------------------------- ------------- 2/3 [optuna]\n",
      "   -------------------------- ------------- 2/3 [optuna]\n",
      "   -------------------------- ------------- 2/3 [optuna]\n",
      "   -------------------------- ------------- 2/3 [optuna]\n",
      "   -------------------------- ------------- 2/3 [optuna]\n",
      "   -------------------------- ------------- 2/3 [optuna]\n",
      "   -------------------------- ------------- 2/3 [optuna]\n",
      "   -------------------------- ------------- 2/3 [optuna]\n",
      "   -------------------------- ------------- 2/3 [optuna]\n",
      "   -------------------------- ------------- 2/3 [optuna]\n",
      "   -------------------------- ------------- 2/3 [optuna]\n",
      "   -------------------------- ------------- 2/3 [optuna]\n",
      "   -------------------------- ------------- 2/3 [optuna]\n",
      "   -------------------------- ------------- 2/3 [optuna]\n",
      "   -------------------------- ------------- 2/3 [optuna]\n",
      "   -------------------------- ------------- 2/3 [optuna]\n",
      "   -------------------------- ------------- 2/3 [optuna]\n",
      "   -------------------------- ------------- 2/3 [optuna]\n",
      "   -------------------------- ------------- 2/3 [optuna]\n",
      "   -------------------------- ------------- 2/3 [optuna]\n",
      "   -------------------------- ------------- 2/3 [optuna]\n",
      "   -------------------------- ------------- 2/3 [optuna]\n",
      "   -------------------------- ------------- 2/3 [optuna]\n",
      "   -------------------------- ------------- 2/3 [optuna]\n",
      "   -------------------------- ------------- 2/3 [optuna]\n",
      "   -------------------------- ------------- 2/3 [optuna]\n",
      "   -------------------------- ------------- 2/3 [optuna]\n",
      "   -------------------------- ------------- 2/3 [optuna]\n",
      "   -------------------------- ------------- 2/3 [optuna]\n",
      "   -------------------------- ------------- 2/3 [optuna]\n",
      "   -------------------------- ------------- 2/3 [optuna]\n",
      "   -------------------------- ------------- 2/3 [optuna]\n",
      "   -------------------------- ------------- 2/3 [optuna]\n",
      "   -------------------------- ------------- 2/3 [optuna]\n",
      "   -------------------------- ------------- 2/3 [optuna]\n",
      "   -------------------------- ------------- 2/3 [optuna]\n",
      "   -------------------------- ------------- 2/3 [optuna]\n",
      "   -------------------------- ------------- 2/3 [optuna]\n",
      "   -------------------------- ------------- 2/3 [optuna]\n",
      "   -------------------------- ------------- 2/3 [optuna]\n",
      "   -------------------------- ------------- 2/3 [optuna]\n",
      "   -------------------------- ------------- 2/3 [optuna]\n",
      "   ---------------------------------------- 3/3 [optuna]\n",
      "\n",
      "Successfully installed colorlog-6.9.0 optuna-4.4.0 tqdm-4.67.1\n"
     ]
    }
   ],
   "source": [
    "!pip install optuna"
   ]
  },
  {
   "cell_type": "code",
   "execution_count": 16,
   "id": "0d51bc57",
   "metadata": {},
   "outputs": [
    {
     "name": "stderr",
     "output_type": "stream",
     "text": [
      "c:\\Users\\LENOVO\\Desktop\\MLOpsPractice\\MLFLOW\\venv\\lib\\site-packages\\tqdm\\auto.py:21: TqdmWarning: IProgress not found. Please update jupyter and ipywidgets. See https://ipywidgets.readthedocs.io/en/stable/user_install.html\n",
      "  from .autonotebook import tqdm as notebook_tqdm\n"
     ]
    }
   ],
   "source": [
    "import optuna"
   ]
  }
 ],
 "metadata": {
  "kernelspec": {
   "display_name": "Python 3",
   "language": "python",
   "name": "python3"
  },
  "language_info": {
   "codemirror_mode": {
    "name": "ipython",
    "version": 3
   },
   "file_extension": ".py",
   "mimetype": "text/x-python",
   "name": "python",
   "nbconvert_exporter": "python",
   "pygments_lexer": "ipython3",
   "version": "3.10.18"
  }
 },
 "nbformat": 4,
 "nbformat_minor": 5
}
